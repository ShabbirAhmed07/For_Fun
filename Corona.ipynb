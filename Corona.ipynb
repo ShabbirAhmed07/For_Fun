{
 "cells": [
  {
   "cell_type": "code",
   "execution_count": 1,
   "id": "dramatic-hardware",
   "metadata": {},
   "outputs": [],
   "source": [
    "from turtle import *"
   ]
  },
  {
   "cell_type": "code",
   "execution_count": 2,
   "id": "interpreted-remark",
   "metadata": {},
   "outputs": [],
   "source": [
    "sc = Screen()\n",
    "sc.setup(700,700)\n",
    "\n",
    "speed(50)\n",
    "\n",
    "setpos(300,50)\n",
    "\n",
    "color('green')\n",
    "bgcolor('black')"
   ]
  },
  {
   "cell_type": "code",
   "execution_count": 3,
   "id": "known-ratio",
   "metadata": {},
   "outputs": [],
   "source": [
    "i = 200\n",
    "\n",
    "while i>0:\n",
    "    left(i)\n",
    "    forward(i*3)\n",
    "    i -= 1"
   ]
  },
  {
   "cell_type": "code",
   "execution_count": null,
   "id": "informal-maryland",
   "metadata": {},
   "outputs": [],
   "source": []
  }
 ],
 "metadata": {
  "kernelspec": {
   "display_name": "Python 3",
   "language": "python",
   "name": "python3"
  },
  "language_info": {
   "codemirror_mode": {
    "name": "ipython",
    "version": 3
   },
   "file_extension": ".py",
   "mimetype": "text/x-python",
   "name": "python",
   "nbconvert_exporter": "python",
   "pygments_lexer": "ipython3",
   "version": "3.8.5"
  }
 },
 "nbformat": 4,
 "nbformat_minor": 5
}
